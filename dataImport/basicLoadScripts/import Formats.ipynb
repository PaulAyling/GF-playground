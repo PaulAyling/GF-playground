{
 "cells": [
  {
   "cell_type": "code",
   "execution_count": 8,
   "metadata": {},
   "outputs": [
    {
     "name": "stdout",
     "output_type": "stream",
     "text": [
      "   id name;\n",
      "0   1  paul\n"
     ]
    }
   ],
   "source": [
    "# Load a csv file\n",
    "import pandas as pd\n",
    "df = pd.read_csv (r'./test.csv')\n",
    "print (df)"
   ]
  },
  {
   "cell_type": "code",
   "execution_count": 1,
   "metadata": {},
   "outputs": [
    {
     "name": "stdout",
     "output_type": "stream",
     "text": [
      "data {'id': '1', 'name': 'Bob'}\n"
     ]
    }
   ],
   "source": [
    "# load json\n",
    "import json\n",
    "importFile = open('test.json')\n",
    "data = json.load(importFile)\n",
    "print(\"data\", data)"
   ]
  }
 ],
 "metadata": {
  "kernelspec": {
   "display_name": "Python 3.9.12 ('base')",
   "language": "python",
   "name": "python3"
  },
  "language_info": {
   "codemirror_mode": {
    "name": "ipython",
    "version": 3
   },
   "file_extension": ".py",
   "mimetype": "text/x-python",
   "name": "python",
   "nbconvert_exporter": "python",
   "pygments_lexer": "ipython3",
   "version": "3.9.12"
  },
  "orig_nbformat": 4,
  "vscode": {
   "interpreter": {
    "hash": "b890616db10b8f09b80a0e8c2376219b991d33b466e72cd8a00c7fb415fec48e"
   }
  }
 },
 "nbformat": 4,
 "nbformat_minor": 2
}
